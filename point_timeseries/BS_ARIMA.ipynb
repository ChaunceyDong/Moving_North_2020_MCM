{
 "cells": [
  {
   "cell_type": "markdown",
   "metadata": {},
   "source": [
    "## ARMA"
   ]
  },
  {
   "attachments": {
    "image.png": {
     "image/png": "[encoded data removed]"
    }
   },
   "cell_type": "markdown",
   "metadata": {},
   "source": [
    "![image.png](attachment:image.png)"
   ]
  },
  {
   "cell_type": "code",
   "execution_count": 2,
   "metadata": {},
   "outputs": [
    {
     "ename": "ModuleNotFoundError",
     "evalue": "No module named 'lxml'",
     "output_type": "error",
     "traceback": [
      "\u001b[0;31m---------------------------------------------------------------------------\u001b[0m",
      "\u001b[0;31mModuleNotFoundError\u001b[0m                       Traceback (most recent call last)",
      "\u001b[0;32m<ipython-input-2-d794c7f30c27>\u001b[0m in \u001b[0;36m<module>\u001b[0;34m\u001b[0m\n\u001b[0;32m----> 1\u001b[0;31m \u001b[0;32mimport\u001b[0m \u001b[0mtushare\u001b[0m \u001b[0;32mas\u001b[0m \u001b[0mts\u001b[0m\u001b[0;34m\u001b[0m\u001b[0;34m\u001b[0m\u001b[0m\n\u001b[0m\u001b[1;32m      2\u001b[0m \u001b[0;32mimport\u001b[0m \u001b[0mpandas\u001b[0m \u001b[0;32mas\u001b[0m \u001b[0mpd\u001b[0m\u001b[0;34m\u001b[0m\u001b[0;34m\u001b[0m\u001b[0m\n\u001b[1;32m      3\u001b[0m \u001b[0;34m\u001b[0m\u001b[0m\n\u001b[1;32m      4\u001b[0m \u001b[0mget_ipython\u001b[0m\u001b[0;34m(\u001b[0m\u001b[0;34m)\u001b[0m\u001b[0;34m.\u001b[0m\u001b[0mrun_line_magic\u001b[0m\u001b[0;34m(\u001b[0m\u001b[0;34m'matplotlib'\u001b[0m\u001b[0;34m,\u001b[0m \u001b[0;34m'inline'\u001b[0m\u001b[0;34m)\u001b[0m\u001b[0;34m\u001b[0m\u001b[0;34m\u001b[0m\u001b[0m\n\u001b[1;32m      5\u001b[0m \u001b[0mget_ipython\u001b[0m\u001b[0;34m(\u001b[0m\u001b[0;34m)\u001b[0m\u001b[0;34m.\u001b[0m\u001b[0mrun_line_magic\u001b[0m\u001b[0;34m(\u001b[0m\u001b[0;34m'config'\u001b[0m\u001b[0;34m,\u001b[0m \u001b[0;34m\"InlineBackend.figure_format = 'retina'\"\u001b[0m\u001b[0;34m)\u001b[0m\u001b[0;34m\u001b[0m\u001b[0;34m\u001b[0m\u001b[0m\n",
      "\u001b[0;32m~/opt/anaconda3/envs/python3/lib/python3.8/site-packages/tushare/__init__.py\u001b[0m in \u001b[0;36m<module>\u001b[0;34m\u001b[0m\n\u001b[1;32m      9\u001b[0m \u001b[0;32mfor\u001b[0m \u001b[0mtrading\u001b[0m \u001b[0mdata\u001b[0m\u001b[0;34m\u001b[0m\u001b[0;34m\u001b[0m\u001b[0m\n\u001b[1;32m     10\u001b[0m \"\"\"\n\u001b[0;32m---> 11\u001b[0;31m from tushare.stock.trading import (get_hist_data, get_tick_data,\n\u001b[0m\u001b[1;32m     12\u001b[0m                                    \u001b[0mget_today_all\u001b[0m\u001b[0;34m,\u001b[0m \u001b[0mget_realtime_quotes\u001b[0m\u001b[0;34m,\u001b[0m\u001b[0;34m\u001b[0m\u001b[0;34m\u001b[0m\u001b[0m\n\u001b[1;32m     13\u001b[0m                                    \u001b[0mget_h_data\u001b[0m\u001b[0;34m,\u001b[0m \u001b[0mget_today_ticks\u001b[0m\u001b[0;34m,\u001b[0m\u001b[0;34m\u001b[0m\u001b[0;34m\u001b[0m\u001b[0m\n",
      "\u001b[0;32m~/opt/anaconda3/envs/python3/lib/python3.8/site-packages/tushare/stock/trading.py\u001b[0m in \u001b[0;36m<module>\u001b[0;34m\u001b[0m\n\u001b[1;32m     11\u001b[0m \u001b[0;32mimport\u001b[0m \u001b[0mtime\u001b[0m\u001b[0;34m\u001b[0m\u001b[0;34m\u001b[0m\u001b[0m\n\u001b[1;32m     12\u001b[0m \u001b[0;32mimport\u001b[0m \u001b[0mjson\u001b[0m\u001b[0;34m\u001b[0m\u001b[0;34m\u001b[0m\u001b[0m\n\u001b[0;32m---> 13\u001b[0;31m \u001b[0;32mimport\u001b[0m \u001b[0mlxml\u001b[0m\u001b[0;34m.\u001b[0m\u001b[0mhtml\u001b[0m\u001b[0;34m\u001b[0m\u001b[0;34m\u001b[0m\u001b[0m\n\u001b[0m\u001b[1;32m     14\u001b[0m \u001b[0;32mfrom\u001b[0m \u001b[0mlxml\u001b[0m \u001b[0;32mimport\u001b[0m \u001b[0metree\u001b[0m\u001b[0;34m\u001b[0m\u001b[0;34m\u001b[0m\u001b[0m\n\u001b[1;32m     15\u001b[0m \u001b[0;32mimport\u001b[0m \u001b[0mpandas\u001b[0m \u001b[0;32mas\u001b[0m \u001b[0mpd\u001b[0m\u001b[0;34m\u001b[0m\u001b[0;34m\u001b[0m\u001b[0m\n",
      "\u001b[0;31mModuleNotFoundError\u001b[0m: No module named 'lxml'"
     ]
    }
   ],
   "source": [
    "import tushare as ts\n",
    "import pandas as pd\n",
    "\n",
    "%matplotlib inline\n",
    "%config InlineBackend.figure_format = 'retina'\n",
    "import matplotlib.pyplot as plt\n",
    "\n",
    "import warnings\n",
    "warnings.filterwarnings(\"ignore\")\n",
    "\n",
    "pro = ts.pro_api()\n",
    "pd.set_option('display.max_rows', 1000)"
   ]
  },
  {
   "cell_type": "markdown",
   "metadata": {},
   "source": [
    "# Prepare for data"
   ]
  },
  {
   "cell_type": "markdown",
   "metadata": {},
   "source": [
    "## option info"
   ]
  },
  {
   "cell_type": "code",
   "execution_count": null,
   "metadata": {
    "scrolled": true
   },
   "outputs": [],
   "source": [
    "option_info_all = pro.opt_basic(\n",
    "    exchange='SSE',\n",
    "    call_put='C',\n",
    "    fields='ts_code,name,exercise_price, list_date,delist_date,maturity_date')\n",
    "\n",
    "option_info_all['period']=pd.to_datetime(option_info_all['delist_date']) - pd.to_datetime(option_info_all['list_date'])\n",
    "\n",
    "option_info_all[option_info_all['maturity_date'].str.startswith('201806')]"
   ]
  },
  {
   "cell_type": "markdown",
   "metadata": {},
   "source": [
    "## Select one"
   ]
  },
  {
   "cell_type": "code",
   "execution_count": null,
   "metadata": {},
   "outputs": [],
   "source": [
    "CODE = \"10001025.SH\"\n",
    "option_info_all[option_info_all.ts_code == CODE]"
   ]
  },
  {
   "cell_type": "markdown",
   "metadata": {},
   "source": [
    "## Price data"
   ]
  },
  {
   "cell_type": "code",
   "execution_count": null,
   "metadata": {
    "scrolled": true
   },
   "outputs": [],
   "source": [
    "option_price = pro.opt_daily(ts_code=CODE ,fields= 'trade_date, close')\n",
    "\n",
    "# clean\n",
    "option_price.index = option_price.trade_date\n",
    "option_price = option_price.drop(columns='trade_date')\n",
    "option_price.index = pd.to_datetime(option_price.index)\n",
    "option_price = option_price.sort_index()\n",
    "option_price"
   ]
  },
  {
   "cell_type": "code",
   "execution_count": null,
   "metadata": {},
   "outputs": [],
   "source": [
    "option_price.plot()"
   ]
  },
  {
   "cell_type": "markdown",
   "metadata": {},
   "source": [
    "## split into Train & Test data"
   ]
  },
  {
   "cell_type": "code",
   "execution_count": null,
   "metadata": {
    "scrolled": true
   },
   "outputs": [],
   "source": [
    "sub = option_price.close\n",
    "train = sub.loc[:'2019-01']\n",
    "test = sub.loc['2019-02':]\n",
    "sub\n",
    "\n"
   ]
  },
  {
   "cell_type": "code",
   "execution_count": null,
   "metadata": {
    "scrolled": true
   },
   "outputs": [],
   "source": [
    "train.plot()\n",
    "train"
   ]
  },
  {
   "cell_type": "code",
   "execution_count": null,
   "metadata": {
    "scrolled": true
   },
   "outputs": [],
   "source": [
    "print(test)\n",
    "test.plot()"
   ]
  },
  {
   "cell_type": "markdown",
   "metadata": {},
   "source": [
    "# Difference"
   ]
  },
  {
   "cell_type": "code",
   "execution_count": null,
   "metadata": {
    "scrolled": true
   },
   "outputs": [],
   "source": [
    "option_price.shape"
   ]
  },
  {
   "cell_type": "code",
   "execution_count": null,
   "metadata": {
    "scrolled": true
   },
   "outputs": [],
   "source": [
    "option_price['close_diff_1'] = option_price['close'].diff(1)\n",
    "option_price['close_diff_2'] = option_price['close'].diff(2)\n",
    "\n",
    "option_price = option_price.dropna()\n",
    "option_price"
   ]
  },
  {
   "cell_type": "markdown",
   "metadata": {},
   "source": [
    "## Draw diff"
   ]
  },
  {
   "cell_type": "code",
   "execution_count": null,
   "metadata": {
    "scrolled": true
   },
   "outputs": [],
   "source": [
    "fig = plt.figure(figsize=(20,6))\n",
    "ax1 = fig.add_subplot(131)\n",
    "ax1.plot(option_price['close'])\n",
    "ax2 = fig.add_subplot(132)\n",
    "ax2.plot(option_price['close_diff_1'])\n",
    "ax3 = fig.add_subplot(133)\n",
    "ax3.plot(option_price['close_diff_2'])\n",
    "plt.show()"
   ]
  },
  {
   "cell_type": "markdown",
   "metadata": {},
   "source": [
    "## Test Stationarity"
   ]
  },
  {
   "cell_type": "code",
   "execution_count": null,
   "metadata": {},
   "outputs": [],
   "source": [
    "from statsmodels.tsa.stattools import adfuller   #Dickey-Fuller test\n",
    "def test_stationarity(timeseries):\n",
    "\n",
    "    #Determing rolling statistics\n",
    "    rolmean = pd.rolling_mean(timeseries, window=12)\n",
    "    rolstd = pd.rolling_std(timeseries, window=12)\n",
    "\n",
    "    #Plot rolling statistics:\n",
    "    fig = plt.figure(figsize=(12, 8))\n",
    "    orig = plt.plot(timeseries, color='blue',label='Original')\n",
    "    mean = plt.plot(rolmean, color='red', label='Rolling Mean')\n",
    "    std = plt.plot(rolstd, color='black', label = 'Rolling Std')\n",
    "    plt.legend(loc='best')\n",
    "    plt.title('Rolling Mean & Standard Deviation')\n",
    "    plt.show()\n",
    "\n",
    "    #Perform Dickey-Fuller test:\n",
    "    print('Results of Dickey-Fuller Test:')\n",
    "    dftest = adfuller(timeseries, autolag='AIC')  #autolag : {‘AIC’, ‘BIC’, ‘t-stat’, None}\n",
    "    dfoutput = pd.Series(dftest[0:4], index=['Test Statistic','p-value','#Lags Used','Number of Observations Used'])\n",
    "    for key,value in dftest[4].items():\n",
    "        dfoutput['Critical Value (%s)'%key] = value\n",
    "    print(dfoutput)"
   ]
  },
  {
   "cell_type": "markdown",
   "metadata": {},
   "source": [
    "### origion"
   ]
  },
  {
   "cell_type": "code",
   "execution_count": null,
   "metadata": {},
   "outputs": [],
   "source": [
    "test_stationarity(option_price['close'].dropna(inplace=False))"
   ]
  },
  {
   "cell_type": "markdown",
   "metadata": {},
   "source": [
    "### diff_1"
   ]
  },
  {
   "cell_type": "code",
   "execution_count": null,
   "metadata": {
    "scrolled": false
   },
   "outputs": [],
   "source": [
    "test_stationarity(option_price['close_diff_1'].dropna(inplace=False))"
   ]
  },
  {
   "cell_type": "markdown",
   "metadata": {},
   "source": [
    "# Draw Autocorrelation & Partial Autocorrelation"
   ]
  },
  {
   "cell_type": "code",
   "execution_count": null,
   "metadata": {},
   "outputs": [],
   "source": [
    "import statsmodels.api as sm\n",
    "\n",
    "fig = plt.figure(figsize=(12,8))\n",
    "ax1 = fig.add_subplot(211)\n",
    "fig = sm.graphics.tsa.plot_acf(option_price['close'].loc[:'2019-01'], lags=15,ax=ax1)\n",
    "ax1.xaxis.set_ticks_position('bottom')\n",
    "fig.tight_layout()\n",
    "\n",
    "ax2 = fig.add_subplot(212)\n",
    "fig = sm.graphics.tsa.plot_pacf(option_price['close'].loc[:'2019-01'], lags=15, ax=ax2)\n",
    "ax2.xaxis.set_ticks_position('bottom')\n",
    "fig.tight_layout()\n",
    "plt.show()\n"
   ]
  },
  {
   "cell_type": "code",
   "execution_count": null,
   "metadata": {
    "scrolled": false
   },
   "outputs": [],
   "source": [
    "import statsmodels.api as sm\n",
    "\n",
    "fig = plt.figure(figsize=(12,8))\n",
    "ax1 = fig.add_subplot(211)\n",
    "fig = sm.graphics.tsa.plot_acf(option_price['close_diff_1'].loc[:'2019-01'], lags=15,ax=ax1)\n",
    "ax1.xaxis.set_ticks_position('bottom')\n",
    "fig.tight_layout()\n",
    "\n",
    "ax2 = fig.add_subplot(212)\n",
    "fig = sm.graphics.tsa.plot_pacf(option_price['close_diff_1'].loc[:'2019-01'], lags=15, ax=ax2)\n",
    "ax2.xaxis.set_ticks_position('bottom')\n",
    "fig.tight_layout()\n",
    "plt.show()\n"
   ]
  },
  {
   "attachments": {
    "image.png": {
     "image/png": "[encoded data removed]"
    }
   },
   "cell_type": "markdown",
   "metadata": {},
   "source": [
    "![image.png](attachment:image.png)"
   ]
  },
  {
   "cell_type": "markdown",
   "metadata": {},
   "source": [
    "Autocorrelation\n",
    "    1阶截尾\n",
    "    \n",
    "    \n",
    "Partial Autocorrelation: \n",
    "    1阶截尾\n",
    "    \n",
    "    \n",
    "    \n",
    "ARMA(1,1)"
   ]
  },
  {
   "cell_type": "markdown",
   "metadata": {},
   "source": [
    "## AIC & BIC"
   ]
  },
  {
   "cell_type": "markdown",
   "metadata": {},
   "source": [
    "## AIC准则\n",
    "\n",
    "AIC准则全称为全称是最小化信息量准则（Akaike Information Criterion），计算公式如下：\n",
    "\n",
    "\n",
    "AIC = =2 *（模型参数的个数）-2ln（模型的极大似然函数）\n"
   ]
  },
  {
   "cell_type": "markdown",
   "metadata": {},
   "source": [
    "\n",
    "## BIC准则\n",
    "\n",
    "\n",
    "AIC准则存在一定的不足之处。\n",
    "\n",
    "\n",
    "当样本容量很大时，在AIC准则中拟合误差提供的信息就要受到样本容量的放大，而参数个数的惩罚因子却和样本容量没关系（一直是2），因此当样本容量很大时，使用AIC准则选择的模型不收敛与真实模型，它通常比真实模型所含的未知参数个数要多。BIC（Bayesian InformationCriterion）贝叶斯信息准则弥补了AIC的不足，计算公式如下：\n",
    "\n",
    "\n",
    "BIC = ln(n) * (模型中参数的个数) - 2ln(模型的极大似然函数值)，n是样本容量\n"
   ]
  },
  {
   "cell_type": "code",
   "execution_count": null,
   "metadata": {},
   "outputs": [],
   "source": [
    "import warnings\n",
    "warnings.filterwarnings(\"ignore\")"
   ]
  },
  {
   "cell_type": "code",
   "execution_count": null,
   "metadata": {
    "scrolled": true
   },
   "outputs": [],
   "source": [
    "train_results = sm.tsa.arma_order_select_ic(option_price['close_diff_1'].loc[:'2019-01'], ic=['aic', 'bic'], trend='nc', max_ar=5, max_ma=5)\n",
    "print('AIC', train_results.aic_min_order)\n",
    "print('BIC', train_results.bic_min_order)\n"
   ]
  },
  {
   "cell_type": "markdown",
   "metadata": {},
   "source": [
    "## Draw resid\n"
   ]
  },
  {
   "cell_type": "code",
   "execution_count": null,
   "metadata": {},
   "outputs": [],
   "source": [
    "model = sm.tsa.ARIMA(train, order=(1, 0, 0))\n",
    "results = model.fit()\n",
    "resid = results.resid #赋值\n",
    "fig = plt.figure(figsize=(12,8))\n",
    "fig = sm.graphics.tsa.plot_acf(resid.values.squeeze(), lags=18)\n",
    "plt.show()\n",
    "print(results.summary().tables[1])"
   ]
  },
  {
   "cell_type": "code",
   "execution_count": null,
   "metadata": {},
   "outputs": [],
   "source": [
    "model = sm.tsa.ARIMA(train, order=(1, 1, 0))\n",
    "results = model.fit()\n",
    "resid = results.resid #赋值\n",
    "fig = plt.figure(figsize=(12,8))\n",
    "fig = sm.graphics.tsa.plot_acf(resid.values.squeeze(), lags=18)\n",
    "plt.show()\n"
   ]
  },
  {
   "cell_type": "code",
   "execution_count": null,
   "metadata": {},
   "outputs": [],
   "source": [
    "print(results.summary().tables[1])"
   ]
  },
  {
   "cell_type": "code",
   "execution_count": null,
   "metadata": {
    "scrolled": true
   },
   "outputs": [],
   "source": [
    "model = sm.tsa.ARIMA(sub, order=(1, 0, 0))\n",
    "results = model.fit()\n",
    "predict_sunspots = results.predict(start=1,end=150,dynamic=False)\n",
    "print(predict_sunspots)"
   ]
  },
  {
   "cell_type": "code",
   "execution_count": null,
   "metadata": {},
   "outputs": [],
   "source": [
    "def reverse_diff()\n",
    "    x, x_diff = df['A'].iloc[0], df['B'].iloc[1:]\n",
    "    df['C'] = np.r_[x, x_diff].cumsum().astype(int)\n",
    "    \n"
   ]
  },
  {
   "cell_type": "code",
   "execution_count": null,
   "metadata": {
    "scrolled": true
   },
   "outputs": [],
   "source": [
    "#plt.figure(figsize=(12, 8))\n",
    "plt.plot(predict_sunspots, label='ARMA(1,1,0) simulate')\n",
    "plt.plot(option_price['close'], label='option_price')\n",
    "plt.legend(loc='best')\n",
    "plt.show()"
   ]
  },
  {
   "cell_type": "code",
   "execution_count": null,
   "metadata": {},
   "outputs": [],
   "source": [
    "def draw_arima(p,d,q):\n",
    "    model = sm.tsa.ARIMA(option_price['close'], order=(p,d,q))\n",
    "    results = model.fit()\n",
    "    predict_sunspots = results.predict(start=1,end=150,dynamic=False)\n",
    "    plt.plot(predict_sunspots, label='ARMA(1,1,0) simulate')\n",
    "    plt.plot(option_price['close'], label='option_price')\n",
    "    plt.legend(loc='best')\n",
    "    plt.show()\n",
    "    return predict_sunspots\n",
    "    \n",
    "b = draw_arima(3,0,4)   "
   ]
  },
  {
   "cell_type": "code",
   "execution_count": null,
   "metadata": {},
   "outputs": [],
   "source": [
    "def draw_arima_2(p,d,q):\n",
    "    model = sm.tsa.ARIMA(option_price['close_diff_1'], order=(p,d,q))\n",
    "    results = model.fit()\n",
    "    predict_sunspots = results.predict(start=1,end=150,dynamic=False)\n",
    "    plt.plot(predict_sunspots*10, label='ARMA(1,1,0) simulate')\n",
    "    plt.plot(option_price['close_diff_1'], label='option_price')\n",
    "    plt.legend(loc='best')\n",
    "    plt.show()\n",
    "    return predict_sunspots\n",
    "    \n",
    "diff_100 = draw_arima_2(1,0,0)   "
   ]
  },
  {
   "cell_type": "code",
   "execution_count": null,
   "metadata": {},
   "outputs": [],
   "source": [
    "def draw_arima_3(p,d,q):\n",
    "    model = sm.tsa.ARIMA(option_price['close'], order=(p,d,q))\n",
    "    results = model.fit()\n",
    "    predict_sunspots = results.predict(start=1,end=150,dynamic=False)\n",
    "    plt.plot(predict_sunspots, label='ARMA(1,1,0) simulate')\n",
    "    plt.plot(option_price['close_diff_1'], label='option_price')\n",
    "    plt.legend(loc='best')\n",
    "    plt.show()\n",
    "    return predict_sunspots\n",
    "    \n",
    "origin_110 = draw_arima_3(1,1,0)   "
   ]
  },
  {
   "cell_type": "code",
   "execution_count": null,
   "metadata": {},
   "outputs": [],
   "source": [
    "df = pd.DataFrame()"
   ]
  },
  {
   "cell_type": "code",
   "execution_count": null,
   "metadata": {},
   "outputs": [],
   "source": [
    "df['diff_100'] = diff_100\n",
    "df['origin_110'] =origin_110"
   ]
  },
  {
   "cell_type": "code",
   "execution_count": null,
   "metadata": {},
   "outputs": [],
   "source": [
    "df['d_f'] = df['b'].diff(1)"
   ]
  },
  {
   "cell_type": "code",
   "execution_count": null,
   "metadata": {},
   "outputs": [],
   "source": [
    "sub.index"
   ]
  },
  {
   "cell_type": "code",
   "execution_count": null,
   "metadata": {
    "scrolled": false
   },
   "outputs": [],
   "source": [
    "sub = option_price['close']\n",
    "sub.index = range(160)\n",
    "train = sub[:126]\n",
    "test = sub[126:]\n",
    "\n",
    "from pandas import datetime\n",
    "# 2018-07-26\n",
    "# 2019-01-31\n",
    "# 2019-03-27\n",
    "\n",
    "model = sm.tsa.ARIMA(train, order=(3,0,4))\n",
    "results = model.fit()\n",
    "index_num = len(train)\n",
    "predict_sunspots = results.predict(start=126,end=130,dynamic=False)\n",
    "plt.plot(predict_sunspots, label='fittedvalues')\n",
    "plt.plot(test, label='real_value')\n",
    "plt.legend(loc='best')\n",
    "plt.show()\n",
    "print(results.summary())\n"
   ]
  },
  {
   "cell_type": "code",
   "execution_count": null,
   "metadata": {},
   "outputs": [],
   "source": []
  },
  {
   "cell_type": "code",
   "execution_count": null,
   "metadata": {
    "scrolled": false
   },
   "outputs": [],
   "source": [
    "sub = option_price['close']\n",
    "train = sub.loc[:'2019-01']\n",
    "test = sub.loc['2019-02':]\n",
    "\n",
    "\n",
    "model = sm.tsa.ARIMA(train, order=(1,1,0))\n",
    "results = model.fit()\n",
    "plt.plot(results.fittedvalues, label='fittedvalues')\n",
    "plt.plot(train.diff(1), label='real_value')\n",
    "plt.legend(loc='best')\n",
    "plt.show()\n",
    "print(results.summary())"
   ]
  },
  {
   "cell_type": "code",
   "execution_count": null,
   "metadata": {},
   "outputs": [],
   "source": [
    "sub = option_price['close_diff_1']\n",
    "train = sub.loc[:'2019-01']\n",
    "test = sub.loc['2019-02':]\n",
    "\n",
    "\n",
    "model = sm.tsa.ARMA(train, order=(1,0))\n",
    "results = model.fit()\n",
    "plt.plot(results.fittedvalues, label='fittedvalues')\n",
    "plt.plot(train, label='real_value')\n",
    "plt.legend(loc='best')\n",
    "plt.show()\n",
    "print(results.summary())"
   ]
  },
  {
   "cell_type": "code",
   "execution_count": null,
   "metadata": {
    "scrolled": true
   },
   "outputs": [],
   "source": [
    "results.predict(1, 126, dynamic = True)"
   ]
  },
  {
   "cell_type": "code",
   "execution_count": null,
   "metadata": {},
   "outputs": [],
   "source": [
    "results.fittedvalues"
   ]
  },
  {
   "cell_type": "code",
   "execution_count": null,
   "metadata": {},
   "outputs": [],
   "source": []
  }
 ],
 "metadata": {
  "kernelspec": {
   "display_name": "Python 3",
   "language": "python",
   "name": "python3"
  },
  "language_info": {
   "codemirror_mode": {
    "name": "ipython",
    "version": 3
   },
   "file_extension": ".py",
   "mimetype": "text/x-python",
   "name": "python",
   "nbconvert_exporter": "python",
   "pygments_lexer": "ipython3",
   "version": "3.8.1"
  }
 },
 "nbformat": 4,
 "nbformat_minor": 2
}
